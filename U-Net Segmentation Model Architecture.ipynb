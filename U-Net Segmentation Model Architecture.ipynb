{
  "cells": [
    {
      "cell_type": "code",
      "execution_count": null,
      "metadata": {
        "id": "cJ8X35l89I8R"
      },
      "outputs": [],
      "source": [
        "import torch\n",
        "import torch.nn as nn\n",
        "import torchvision\n",
        "import torchvision.transforms.functional as TF"
      ]
    },
    {
      "cell_type": "code",
      "execution_count": null,
      "metadata": {
        "id": "YUwkE4Cpyz7w"
      },
      "outputs": [],
      "source": [
        "import os\n",
        "import torch\n",
        "from PIL import Image\n",
        "from torch.utils.data import Dataset, DataLoader"
      ]
    },
    {
      "cell_type": "code",
      "execution_count": null,
      "metadata": {
        "id": "uq3MJ9xUzDMy"
      },
      "outputs": [],
      "source": [
        "import torch\n",
        "import albumentations as A\n",
        "from albumentations.pytorch import ToTensorV2\n",
        "from tqdm import tqdm\n",
        "import torch.nn as nn\n",
        "import torch.optim as optim\n",
        "import numpy as np"
      ]
    },
    {
      "cell_type": "markdown",
      "metadata": {
        "id": "ECpLiS9QzdRN"
      },
      "source": [
        "### Model Block"
      ]
    },
    {
      "cell_type": "code",
      "execution_count": null,
      "metadata": {
        "id": "j9xjGrSV9gBj"
      },
      "outputs": [],
      "source": [
        "class DoubleConv(nn.Module):\n",
        "    def __init__(self, in_channels, out_channels):\n",
        "        super().__init__()\n",
        "        self.conv = nn.Sequential(\n",
        "            nn.Conv2d(in_channels, out_channels, 3, 1, 1, bias=False),\n",
        "            nn.BatchNorm2d(out_channels),\n",
        "            nn.ReLU(inplace=True),\n",
        "\n",
        "            nn.Conv2d(out_channels, out_channels, 3, 1, 1, bias=False),\n",
        "            nn.BatchNorm2d(out_channels),\n",
        "            nn.ReLU(inplace=True),\n",
        "            )\n",
        "\n",
        "    def forward(self, x):\n",
        "        return self.conv(x)"
      ]
    },
    {
      "cell_type": "code",
      "execution_count": null,
      "metadata": {
        "id": "JPgw9Qth_afM"
      },
      "outputs": [],
      "source": [
        "class UNet(nn.Module):\n",
        "    def __init__(self, in_channels=3, out_channels=1, features=[64, 128, 256, 512]):\n",
        "        super().__init__()\n",
        "        self.downs = nn.ModuleList()\n",
        "        self.ups = nn.ModuleList()\n",
        "        self.pool = nn.MaxPool2d(kernel_size=2, stride=2)\n",
        "\n",
        "        # Down part of UNET\n",
        "        for feature in features:\n",
        "            self.downs.append(DoubleConv(in_channels, feature))\n",
        "            in_channels = feature\n",
        "\n",
        "        # Up part of UNET\n",
        "        for feature in reversed(features):\n",
        "            self.ups.append(nn.ConvTranspose2d(feature*2, feature, kernel_size=2, stride=2))\n",
        "            self.ups.append(DoubleConv(feature*2, feature))\n",
        "\n",
        "        self.bottleneck = DoubleConv(features[-1], features[-1]*2)\n",
        "        self.final_conv = nn.Conv2d(features[0], out_channels, kernel_size=1)\n",
        "\n",
        "    def forward(self, x):\n",
        "        skip_connections = []\n",
        "\n",
        "        for down in self.downs:\n",
        "            x = down(x)\n",
        "            skip_connections.append(x)\n",
        "            x = self.pool(x)\n",
        "\n",
        "        x = self.bottleneck(x)\n",
        "        skip_connections = skip_connections[::-1]\n",
        "\n",
        "        for idx in range(0, len(self.ups), 2):\n",
        "            x = self.ups[idx](x)\n",
        "            skip_connection = skip_connections[idx//2]\n",
        "\n",
        "            if x.shape != skip_connection.shape:\n",
        "                x = TF.resize(x, size=skip_connection.shape[2:])\n",
        "\n",
        "            x = self.ups[idx+1](torch.cat((skip_connection, x), dim=1))\n",
        "\n",
        "        return self.final_conv(x)"
      ]
    },
    {
      "cell_type": "markdown",
      "metadata": {
        "id": "5spsetj3zgTG"
      },
      "source": [
        "### Test Blcok"
      ]
    },
    {
      "cell_type": "code",
      "execution_count": null,
      "metadata": {
        "id": "3fAhhOIiImLy"
      },
      "outputs": [],
      "source": [
        "def test():\n",
        "  x = torch.randn((3,1,160,160))\n",
        "  model = UNet(in_channels=1, out_channels=1)\n",
        "  preds = model(x)\n",
        "  print(preds.shape)\n",
        "  print(x.shape)\n",
        "  assert preds.shape == x.shape"
      ]
    },
    {
      "cell_type": "code",
      "execution_count": null,
      "metadata": {
        "colab": {
          "base_uri": "https://localhost:8080/"
        },
        "id": "0an2MO-ApL-a",
        "outputId": "8567146c-21a7-479b-e0ea-ff6dd0fed437"
      },
      "outputs": [
        {
          "name": "stdout",
          "output_type": "stream",
          "text": [
            "torch.Size([3, 1, 160, 160])\n",
            "torch.Size([3, 1, 160, 160])\n"
          ]
        }
      ],
      "source": [
        "test()"
      ]
    },
    {
      "cell_type": "markdown",
      "metadata": {
        "id": "YAGDGxP9zikn"
      },
      "source": [
        "### Dataset"
      ]
    },
    {
      "cell_type": "code",
      "execution_count": null,
      "metadata": {
        "id": "tIJhpfFnq1aR"
      },
      "outputs": [],
      "source": [
        "class CustomDataset(Dataset):\n",
        "  def __init__(self, image_dir, mask_dir, transform=None):\n",
        "    self.image_dir = image_dir\n",
        "    self.mask_dir = mask_dir\n",
        "    self.transform = transform\n",
        "    self.images = os.listdir(image_dir)\n",
        "\n",
        "  def __len__(self):\n",
        "    return len(self.images)\n",
        "\n",
        "  def __getitem__(self, index):\n",
        "\n",
        "    img_path = os.path.join(self.image_dir, self.images[index])\n",
        "    mask_path = os.path.join(self.mask_dir, self.images[index])#\n",
        "    image = np.array(Image.open(img_path).convert(\"RGB\"))\n",
        "    mask = np.array(Image.open(mask_path).convert(\"L\"), dtype=np.float32)\n",
        "    mask[mask==255.0] = 1.0\n",
        "    if self.transform is not None:\n",
        "      augmentations = self.transform(image=image, mask=mask)\n",
        "      image = augmentations[\"image\"]\n",
        "      mask = augmentations[\"mask\"]\n",
        "\n",
        "    return image, mask"
      ]
    },
    {
      "cell_type": "markdown",
      "metadata": {
        "id": "uGm9z-ca84Qh"
      },
      "source": [
        "### Utils"
      ]
    },
    {
      "cell_type": "code",
      "execution_count": null,
      "metadata": {
        "id": "dsmnCj0E86tP"
      },
      "outputs": [],
      "source": [
        "def save_checkpoint(state, filename=\"./drive/MyDrive/Seg/my_checkpoint.pth.tar\"):\n",
        "  print(\"===> Saving checkpoint...\")\n",
        "  torch.save(state, filename)\n",
        "\n",
        "def load_checkpoint(checkpoint, model):\n",
        "  print(\"===> Load 'checkpoint...\")\n",
        "  model.load_state_dict(checkpoint[\"state_dict\"])\n",
        "\n",
        "def get_loaders(\n",
        "    train_dir,\n",
        "    train_maskdir,\n",
        "    val_dir,\n",
        "    val_maskdir,\n",
        "    batch_size,\n",
        "    train_transform,\n",
        "    val_transform,\n",
        "    num_workers=4,\n",
        "    pin_memory=True\n",
        "  ):\n",
        "  train_ds = CustomDataset(train_dir, train_maskdir, train_transform)\n",
        "  train_loader = DataLoader(train_ds, batch_size=batch_size, num_workers=num_workers, pin_memory=pin_memory, shuffle=True)\n",
        "\n",
        "  val_ds = CustomDataset(val_dir, val_maskdir, val_transform)\n",
        "  val_loader = DataLoader(val_ds, batch_size=batch_size, num_workers=num_workers, pin_memory=pin_memory, shuffle=True)\n",
        "\n",
        "  return train_loader, val_loader\n",
        "\n",
        "def check_accuracy(loader, model, device=\"cuda\"):\n",
        "  num_correct = 0\n",
        "  num_pixels = 0\n",
        "  model.eval()\n",
        "\n",
        "  with torch.no_grad():\n",
        "    for x, y in loader:\n",
        "      x = x.to(device)\n",
        "      y = y.to(device).unsqueeze(1)\n",
        "      preds = torch.sigmoid(model(x))\n",
        "      preds = (preds > 0.5).float()\n",
        "      num_correct += (preds == y ).sum()\n",
        "      num_pixels += torch.numel(preds)\n",
        "\n",
        "  print(f\"Accuracy : {num_correct/num_pixels*100:.2f}\")\n",
        "  model.train()\n",
        "\n",
        "def save_predictions_as_images(loader, model, folder=\"./drive/MyDrive/Seg/saved_images/\", device=\"cuda\"):\n",
        "  model.eval()\n",
        "  for idx, (x, y) in enumerate(loader):\n",
        "    x = x.to(device)\n",
        "    with torch.no_grad():\n",
        "      preds = torch.sigmoid(model(x))\n",
        "      preds = (preds > 0.5).float()\n",
        "    torchvision.utils.save_image(preds, f\"{folder}pred_{idx}.png\")\n",
        "    torchvision.utils.save_image(y.unsqueeze(1), f\"{folder}y_{idx}.png\")\n",
        "  model.train()"
      ]
    },
    {
      "cell_type": "markdown",
      "metadata": {
        "id": "-aABTB2mzmFW"
      },
      "source": [
        "### Train"
      ]
    },
    {
      "cell_type": "code",
      "execution_count": null,
      "metadata": {
        "id": "MxfYl-ETuyu7"
      },
      "outputs": [],
      "source": [
        "# Hyperparameters\n",
        "LEARNING_RATE = 1e-4\n",
        "DEVICE = \"cuda\"\n",
        "BATCH_SIZE = 10\n",
        "NUM_EPOCHS = 3\n",
        "NUM_WORKERS = 0\n",
        "IMAGE_HEIGHT = 500\n",
        "IMAGE_WIDTH =  500\n",
        "PIN_MEMORY = True\n",
        "LOAD_MODEL = True\n",
        "TRAIN_IMG_DIR = \"/content/drive/MyDrive/Seg/train/images\"\n",
        "TRAIN_MASK_DIR = \"/content/drive/MyDrive/Seg/train/labels\"\n",
        "VAL_IMG_DIR = \"/content/drive/MyDrive/Seg/test/images\"\n",
        "VAL_MASK_DIR = \"/content/drive/MyDrive/Seg/test/labels\""
      ]
    },
    {
      "cell_type": "code",
      "execution_count": null,
      "metadata": {
        "id": "0c1f5zXr0Q1n"
      },
      "outputs": [],
      "source": [
        "def train_fn(loader, model, optimizer, loss_fn, scaler):\n",
        "  loop = tqdm(loader)\n",
        "\n",
        "  for batch_idx, (data, targets) in enumerate(loop):\n",
        "    data = data.to(DEVICE)\n",
        "    targets = targets.float().unsqueeze(1).to(DEVICE)\n",
        "\n",
        "    # forward\n",
        "    with torch.cuda.amp.autocast():\n",
        "      predictions = model(data)\n",
        "      loss = loss_fn(predictions, targets)\n",
        "\n",
        "    # backward\n",
        "    optimizer.zero_grad()\n",
        "    scaler.scale(loss).backward()\n",
        "    scaler.step(optimizer)\n",
        "    scaler.update()\n",
        "\n",
        "    # update tqdm loop\n",
        "    loop.set_postfix(loss=loss.item())"
      ]
    },
    {
      "cell_type": "code",
      "execution_count": null,
      "metadata": {
        "id": "Rt6MG63gIxIu"
      },
      "outputs": [],
      "source": [
        "train_transform = A.Compose([\n",
        "      A.Resize(height=IMAGE_HEIGHT, width=IMAGE_WIDTH),\n",
        "      A.Rotate(limit=35, p=1.0),\n",
        "      A.HorizontalFlip(p=0.5),\n",
        "      A.VerticalFlip(p=1.0),\n",
        "      A.Normalize(\n",
        "          mean=[0.0, 0.0, 0.0],\n",
        "          std=[1.0, 1.0, 1.0],\n",
        "          max_pixel_value = 255.0\n",
        "      ),\n",
        "      ToTensorV2(),\n",
        "  ], is_check_shapes=False)\n",
        "\n",
        "val_transform = A.Compose([\n",
        "      A.Resize(height=IMAGE_HEIGHT, width=IMAGE_WIDTH),\n",
        "      A.Normalize(\n",
        "          mean=[0.0, 0.0, 0.0],\n",
        "          std=[1.0, 1.0, 1.0],\n",
        "          max_pixel_value = 255.0\n",
        "      ),\n",
        "      ToTensorV2(),\n",
        "  ],  is_check_shapes=False)"
      ]
    },
    {
      "cell_type": "code",
      "execution_count": null,
      "metadata": {
        "id": "alaGXqaqI2VO"
      },
      "outputs": [],
      "source": [
        "train_loader, val_loader = get_loaders(\n",
        "      TRAIN_IMG_DIR,\n",
        "      TRAIN_MASK_DIR,\n",
        "      VAL_IMG_DIR,\n",
        "      VAL_MASK_DIR,\n",
        "      BATCH_SIZE,\n",
        "      train_transform,\n",
        "      val_transform,\n",
        "      NUM_WORKERS,\n",
        "      PIN_MEMORY\n",
        "  )"
      ]
    },
    {
      "cell_type": "code",
      "execution_count": null,
      "metadata": {
        "id": "QvjB1WM-3i-9"
      },
      "outputs": [],
      "source": [
        "def main(train_loader, val_loader):\n",
        "\n",
        "  model = UNet(in_channels=3, out_channels=1).to(DEVICE)\n",
        "  loss_fn = nn.BCEWithLogitsLoss()\n",
        "  optimizer = optim.Adam(model.parameters(), lr=LEARNING_RATE)\n",
        "\n",
        "  scaler = torch.cuda.amp.GradScaler()\n",
        "\n",
        "  for epoch in range(NUM_EPOCHS):\n",
        "    train_fn(train_loader, model, optimizer, loss_fn, scaler)\n",
        "\n",
        "    checkpoint = {\n",
        "        \"state_dict\" : model.state_dict(),\n",
        "        \"optimizer\" : optimizer.state_dict(),\n",
        "    }\n",
        "\n",
        "    save_checkpoint(checkpoint, filename = f\"./drive/MyDrive/Seg/my_checkpoint_{epoch}.pth.tar\")\n",
        "\n",
        "    check_accuracy(val_loader, model, device=DEVICE)\n",
        "\n",
        "    save_predictions_as_images(val_loader, model, folder=\"./drive/MyDrive/Seg/saved_images/\", device=DEVICE)"
      ]
    },
    {
      "cell_type": "code",
      "execution_count": null,
      "metadata": {
        "colab": {
          "background_save": true,
          "base_uri": "https://localhost:8080/"
        },
        "id": "vWtQOC2ophJw",
        "outputId": "481ff0f8-1465-441f-848e-827c5eca78f2"
      },
      "outputs": [
        {
          "name": "stderr",
          "output_type": "stream",
          "text": [
            "  0%|          | 0/246 [00:00<?, ?it/s]/usr/local/lib/python3.10/dist-packages/torchvision/transforms/functional.py:1603: UserWarning: The default value of the antialias parameter of all the resizing transforms (Resize(), RandomResizedCrop(), etc.) will change from None to True in v0.17, in order to be consistent across the PIL and Tensor backends. To suppress this warning, directly pass antialias=True (recommended, future default), antialias=None (current default, which means False for Tensors and True for PIL), or antialias=False (only works on Tensors - PIL will still use antialiasing). This also applies if you are using the inference transforms from the models weights: update the call to weights.transforms(antialias=True).\n",
            "  warnings.warn(\n",
            "100%|██████████| 246/246 [50:01<00:00, 12.20s/it, loss=0.256]\n"
          ]
        },
        {
          "name": "stdout",
          "output_type": "stream",
          "text": [
            "===> Saving checkpoint...\n",
            "Accuracy : 99.40\n"
          ]
        }
      ],
      "source": [
        "main(train_loader, val_loader)"
      ]
    }
  ],
  "metadata": {
    "accelerator": "GPU",
    "colab": {
      "gpuType": "V100",
      "machine_shape": "hm",
      "provenance": []
    },
    "kernelspec": {
      "display_name": "Python 3",
      "name": "python3"
    },
    "language_info": {
      "name": "python"
    }
  },
  "nbformat": 4,
  "nbformat_minor": 0
}